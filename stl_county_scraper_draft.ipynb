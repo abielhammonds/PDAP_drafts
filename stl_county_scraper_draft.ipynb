{
 "cells": [
  {
   "cell_type": "code",
   "execution_count": null,
   "metadata": {},
   "outputs": [],
   "source": [
    "#Main webpage for the data: https://rdx.stldata.org/dataset/crime-data-0\n",
    "#code created using this YouTube tutorial: https://youtu.be/HDEvWfSk2So"
   ]
  },
  {
   "cell_type": "code",
   "execution_count": 1,
   "metadata": {},
   "outputs": [],
   "source": [
    "#import the requests library - if needed run 'pip install requests' first\n",
    "import requests\n",
    "\n",
    "#create a variable for each dataset to be downloaded - these are the .csv versions of the data\n",
    "url_2019 = 'https://opendata.arcgis.com/datasets/a628ae19fb094f179cc9927a550a55d2_0.csv?outSR=4326'\n",
    "url_2018 = 'https://opendata.arcgis.com/datasets/9e78a4ef8a0445d9b25db8a34fd135db_0.csv?outSR=4326'\n",
    "url_2017 = 'https://opendata.arcgis.com/datasets/306c386becac47b4a393775a0e6d3873_0.csv?outSR=4326'\n",
    "url_2016 = 'https://opendata.arcgis.com/datasets/8ff546117c66439194d54d903066fd37_0.csv?outSR=4326'\n",
    "url_2015 = 'https://opendata.arcgis.com/datasets/eef0ddca7d4a4481b27237b95d3b4350_0.csv?outSR=4326'"
   ]
  },
  {
   "cell_type": "code",
   "execution_count": 5,
   "metadata": {},
   "outputs": [],
   "source": [
    "#create a request object - pass the url name we want to download (maybe make this a function and pass them all one, by one)\n",
    "req_2019 = requests.get(url_2019)"
   ]
  },
  {
   "cell_type": "code",
   "execution_count": 6,
   "metadata": {},
   "outputs": [
    {
     "data": {
      "text/plain": [
       "{'Server': 'openresty', 'Date': 'Sun, 15 Aug 2021 19:27:51 GMT', 'Content-Type': 'text/csv', 'Content-Length': '748405', 'Connection': 'keep-alive', 'Vary': 'Accept-Encoding', 'Last-Modified': 'Thu, 03 Jun 2021 14:05:59 GMT', 'ETag': '\"35cbbf75f0bca033e6df761c60342c4f\"', 'Cache-Control': 'must-revalidate', 'x-amz-meta-cachetime': '2830', 'Content-Disposition': 'attachment; filename=\"2019_UCR_Part_1_Crime_for_Multiple_St._Louis_County_Police_Departments.csv\"', 'Content-Encoding': 'gzip', 'x-amz-meta-contentlastmodified': '2020-06-23T14:39:48.000Z'}"
      ]
     },
     "execution_count": 6,
     "metadata": {},
     "output_type": "execute_result"
    }
   ],
   "source": [
    "#print information about the request object\n",
    "req_2019.headers"
   ]
  },
  {
   "cell_type": "code",
   "execution_count": 7,
   "metadata": {},
   "outputs": [
    {
     "data": {
      "text/plain": [
       "'https://opendata.arcgis.com/datasets/a628ae19fb094f179cc9927a550a55d2_0.csv?outSR=4326'"
      ]
     },
     "execution_count": 7,
     "metadata": {},
     "output_type": "execute_result"
    }
   ],
   "source": [
    "req_2019.url"
   ]
  },
  {
   "cell_type": "code",
   "execution_count": 16,
   "metadata": {},
   "outputs": [],
   "source": [
    "#define the filename by slicing it from the url - it is the detail after the last dash\n",
    "filename = req.url[url_2019.rfind('/')+1:]"
   ]
  },
  {
   "cell_type": "code",
   "execution_count": 17,
   "metadata": {},
   "outputs": [
    {
     "name": "stdout",
     "output_type": "stream",
     "text": [
      "a628ae19fb094f179cc9927a550a55d2_0.csv?outSR=4326\n"
     ]
    }
   ],
   "source": [
    "print(filename)\n",
    "\n",
    "#!!the problem with this code is we don't want to include the text after .csv.  It needs to besliced at the end as well as te beginning.!!"
   ]
  },
  {
   "cell_type": "code",
   "execution_count": 19,
   "metadata": {},
   "outputs": [
    {
     "ename": "OSError",
     "evalue": "[Errno 22] Invalid argument: 'a628ae19fb094f179cc9927a550a55d2_0.csv?outSR=4326'",
     "output_type": "error",
     "traceback": [
      "\u001b[1;31m---------------------------------------------------------------------------\u001b[0m",
      "\u001b[1;31mOSError\u001b[0m                                   Traceback (most recent call last)",
      "\u001b[1;32m<ipython-input-19-89b0db9cc3a3>\u001b[0m in \u001b[0;36m<module>\u001b[1;34m\u001b[0m\n\u001b[0;32m      1\u001b[0m \u001b[1;31m#open the file with binary....\u001b[0m\u001b[1;33m\u001b[0m\u001b[1;33m\u001b[0m\u001b[1;33m\u001b[0m\u001b[0m\n\u001b[0;32m      2\u001b[0m \u001b[1;33m\u001b[0m\u001b[0m\n\u001b[1;32m----> 3\u001b[1;33m \u001b[1;32mwith\u001b[0m \u001b[0mopen\u001b[0m\u001b[1;33m(\u001b[0m\u001b[0mfilename\u001b[0m\u001b[1;33m,\u001b[0m \u001b[1;34m'wb'\u001b[0m\u001b[1;33m)\u001b[0m \u001b[1;32mas\u001b[0m \u001b[0mfile\u001b[0m\u001b[1;33m:\u001b[0m\u001b[1;33m\u001b[0m\u001b[1;33m\u001b[0m\u001b[0m\n\u001b[0m\u001b[0;32m      4\u001b[0m     \u001b[1;32mfor\u001b[0m \u001b[0mchunk\u001b[0m \u001b[1;32min\u001b[0m \u001b[0mreq\u001b[0m\u001b[1;33m.\u001b[0m\u001b[0miter_content\u001b[0m\u001b[1;33m(\u001b[0m\u001b[0mchunk_size\u001b[0m\u001b[1;33m=\u001b[0m\u001b[1;36m8192\u001b[0m\u001b[1;33m)\u001b[0m\u001b[1;33m:\u001b[0m  \u001b[1;31m#if needed, chunk large files into smaller sets\u001b[0m\u001b[1;33m\u001b[0m\u001b[1;33m\u001b[0m\u001b[0m\n\u001b[0;32m      5\u001b[0m         \u001b[1;32mif\u001b[0m \u001b[0mchunk\u001b[0m\u001b[1;33m:\u001b[0m                                   \u001b[1;31m#if the file chunk is not empty\u001b[0m\u001b[1;33m\u001b[0m\u001b[1;33m\u001b[0m\u001b[0m\n",
      "\u001b[1;31mOSError\u001b[0m: [Errno 22] Invalid argument: 'a628ae19fb094f179cc9927a550a55d2_0.csv?outSR=4326'"
     ]
    }
   ],
   "source": [
    "#open the file with binary....\n",
    "\n",
    "with open(filename, 'wb') as file:\n",
    "    for chunk in req.iter_content(chunk_size=8192):  #if needed, chunk large files into smaller sets\n",
    "        if chunk:                                   #if the file chunk is not empty\n",
    "            file.write(chunk)                       #write the file"
   ]
  },
  {
   "cell_type": "code",
   "execution_count": null,
   "metadata": {},
   "outputs": [],
   "source": []
  }
 ],
 "metadata": {
  "kernelspec": {
   "display_name": "Python 3",
   "language": "python",
   "name": "python3"
  },
  "language_info": {
   "codemirror_mode": {
    "name": "ipython",
    "version": 3
   },
   "file_extension": ".py",
   "mimetype": "text/x-python",
   "name": "python",
   "nbconvert_exporter": "python",
   "pygments_lexer": "ipython3",
   "version": "3.7.8"
  }
 },
 "nbformat": 4,
 "nbformat_minor": 4
}
